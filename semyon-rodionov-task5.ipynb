{
 "cells": [
  {
   "cell_type": "markdown",
   "id": "f6c6a32a",
   "metadata": {
    "papermill": {
     "duration": 0.004344,
     "end_time": "2025-05-08T14:48:25.272873",
     "exception": false,
     "start_time": "2025-05-08T14:48:25.268529",
     "status": "completed"
    },
    "tags": []
   },
   "source": [
    "# TASK DESCRIPTION"
   ]
  },
  {
   "cell_type": "markdown",
   "id": "ccd43123",
   "metadata": {
    "papermill": {
     "duration": 0.003391,
     "end_time": "2025-05-08T14:48:25.280059",
     "exception": false,
     "start_time": "2025-05-08T14:48:25.276668",
     "status": "completed"
    },
    "tags": []
   },
   "source": [
    "**Legend:**\n",
    "\n",
    "Young Alex has a beloved BERT model that he carries everywhere on his trusty flash drive. One day, during an excursion along the River Styx, a few drops of water landed on the precious device, corrupting the model's weights.\n",
    "\n",
    "Heartbroken, Alex rushed home to fix the neural network. After quick analysis, he discovered only the token embeddings were damaged - the rest of the architecture (attention blocks and heads) remained perfectly intact. Now he needs to restore the model's performance on Sentiment Analysis Task.\n",
    "\n",
    "**Task:**\n",
    "\n",
    "You need to fix the broken vectors of the Embeddings matrix of the model so as to improve the quality of the model on the task of text sentiment analysis.\n",
    "\n",
    "**Restrictions:**\n",
    "\n",
    "- You can not use any other transformer based pre-trained models and LLMs.\n",
    "\n",
    "- You can not any additional data\n",
    "\n",
    "- You can not fine-tune or pre-train model\n",
    "\n",
    "===\n",
    "\n",
    "When you make a submit, make a Quick Save of the notebook, otherwise we may reject your solution.\n",
    "\n",
    "You must solve this task on KAGGLE (YOU CAN'T USE CLOUD.RU)\n",
    "\n",
    "==========\n",
    "\n",
    "**Легенда:**\n",
    "\n",
    "Young Alex имеет любимую модель BERT, которую он везде носит на своей надежной флешке. Однажды, во время экскурсии вдоль реки Стикс, несколько капель воды попало на драгоценное устройство, повредив веса модели.\n",
    "\n",
    "С разбитым сердцем Алекс поспешил домой, чтобы починить нейронную сеть. После быстрого анализа он обнаружил, что повреждены только эмбеддинги токенов — остальная архитектура (блоки внимания и головы) осталась полностью нетронутой.\n",
    "\n",
    "Теперь ему нужно восстановить производительность модели, оставив все остальные веса замороженными (никакие изменения в механизмах внимания или других компонентах не допускаются). Ваша задача — помочь Алексу достичь этой цели, не нарушив его ностальгическую привязанность к оригинальной модели.\n",
    "\n",
    "**Задача:**\n",
    "\n",
    "Вам необходимо починить сломанные вектора матрицы Embeddings модели так, чтобы улучшить качество модели на задаче анализа тональности текста.\n",
    "\n",
    "**Ограничения:**\n",
    "\n",
    "- Вы не можете использовать никакие другие предобученные модели на основе архитектуры Трансформер и LLM.\n",
    "\n",
    "- Вы не можете использовать никакие дополнительные данные.\n",
    "\n",
    "- Вы не можете дообучать или предобучать модель.\n",
    "\n",
    "===\n",
    "\n",
    "При отправке решения сделайте Quick Save ноутбука, иначе мы можем отклонить ваше решение.\n",
    "\n",
    "Эту задачу необходимо решить на KAGGLE (ВЫ НЕ МОЖЕТЕ ИСПОЛЬЗОВАТЬ CLOUD.RU)\n"
   ]
  },
  {
   "cell_type": "markdown",
   "id": "4ab6f4e6",
   "metadata": {
    "papermill": {
     "duration": 0.003334,
     "end_time": "2025-05-08T14:48:25.286837",
     "exception": false,
     "start_time": "2025-05-08T14:48:25.283503",
     "status": "completed"
    },
    "tags": []
   },
   "source": [
    "# DEPENDINGS"
   ]
  },
  {
   "cell_type": "code",
   "execution_count": 1,
   "id": "4b0c6e8a",
   "metadata": {
    "_cell_guid": "b1076dfc-b9ad-4769-8c92-a6c4dae69d19",
    "_uuid": "8f2839f25d086af736a60e9eeb907d3b93b6e0e5",
    "execution": {
     "iopub.execute_input": "2025-05-08T14:48:25.294711Z",
     "iopub.status.busy": "2025-05-08T14:48:25.294439Z",
     "iopub.status.idle": "2025-05-08T14:48:30.564239Z",
     "shell.execute_reply": "2025-05-08T14:48:30.563672Z"
    },
    "papermill": {
     "duration": 5.275195,
     "end_time": "2025-05-08T14:48:30.565576",
     "exception": false,
     "start_time": "2025-05-08T14:48:25.290381",
     "status": "completed"
    },
    "tags": []
   },
   "outputs": [],
   "source": [
    "import numpy as np\n",
    "import pandas as pd\n",
    "import torch\n",
    "np.random.seed(322)"
   ]
  },
  {
   "cell_type": "markdown",
   "id": "e9c1a30d",
   "metadata": {
    "papermill": {
     "duration": 0.003514,
     "end_time": "2025-05-08T14:48:30.573055",
     "exception": false,
     "start_time": "2025-05-08T14:48:30.569541",
     "status": "completed"
    },
    "tags": []
   },
   "source": [
    "# LOAD DATASET"
   ]
  },
  {
   "cell_type": "code",
   "execution_count": 2,
   "id": "f405efdc",
   "metadata": {
    "execution": {
     "iopub.execute_input": "2025-05-08T14:48:30.581042Z",
     "iopub.status.busy": "2025-05-08T14:48:30.580735Z",
     "iopub.status.idle": "2025-05-08T14:48:30.615999Z",
     "shell.execute_reply": "2025-05-08T14:48:30.615512Z"
    },
    "papermill": {
     "duration": 0.040482,
     "end_time": "2025-05-08T14:48:30.617036",
     "exception": false,
     "start_time": "2025-05-08T14:48:30.576554",
     "status": "completed"
    },
    "tags": []
   },
   "outputs": [],
   "source": [
    "val_data_path = \"/kaggle/input/neoai-2025-broken-bert/val_dataset.csv\"\n",
    "test_data_path = \"/kaggle/input/neoai-2025-broken-bert/test.csv\"\n",
    "\n",
    "val_df = pd.read_csv(val_data_path)\n",
    "test_df = pd.read_csv(test_data_path)"
   ]
  },
  {
   "cell_type": "markdown",
   "id": "30c422e3",
   "metadata": {
    "papermill": {
     "duration": 0.003334,
     "end_time": "2025-05-08T14:48:30.623902",
     "exception": false,
     "start_time": "2025-05-08T14:48:30.620568",
     "status": "completed"
    },
    "tags": []
   },
   "source": [
    "# LOAD TOKENIZER & MODEL"
   ]
  },
  {
   "cell_type": "code",
   "execution_count": 3,
   "id": "4a515c43",
   "metadata": {
    "execution": {
     "iopub.execute_input": "2025-05-08T14:48:30.631865Z",
     "iopub.status.busy": "2025-05-08T14:48:30.631649Z",
     "iopub.status.idle": "2025-05-08T14:48:37.854908Z",
     "shell.execute_reply": "2025-05-08T14:48:37.854284Z"
    },
    "papermill": {
     "duration": 7.22867,
     "end_time": "2025-05-08T14:48:37.856219",
     "exception": false,
     "start_time": "2025-05-08T14:48:30.627549",
     "status": "completed"
    },
    "tags": []
   },
   "outputs": [
    {
     "data": {
      "application/vnd.jupyter.widget-view+json": {
       "model_id": "3f07e8338d87498ba51cf6cb588fc3ad",
       "version_major": 2,
       "version_minor": 0
      },
      "text/plain": [
       "tokenizer_config.json:   0%|          | 0.00/1.27k [00:00<?, ?B/s]"
      ]
     },
     "metadata": {},
     "output_type": "display_data"
    },
    {
     "data": {
      "application/vnd.jupyter.widget-view+json": {
       "model_id": "f040aa5d26624f77a51ba36e563e33f9",
       "version_major": 2,
       "version_minor": 0
      },
      "text/plain": [
       "vocab.txt:   0%|          | 0.00/232k [00:00<?, ?B/s]"
      ]
     },
     "metadata": {},
     "output_type": "display_data"
    },
    {
     "data": {
      "application/vnd.jupyter.widget-view+json": {
       "model_id": "7753f94cf2bb44e4b0c28dfa45567532",
       "version_major": 2,
       "version_minor": 0
      },
      "text/plain": [
       "special_tokens_map.json:   0%|          | 0.00/125 [00:00<?, ?B/s]"
      ]
     },
     "metadata": {},
     "output_type": "display_data"
    }
   ],
   "source": [
    "from transformers import AutoTokenizer, AutoModelForSequenceClassification\n",
    "\n",
    "tokenizer = AutoTokenizer.from_pretrained(\"Ilseyar-kfu/broken_bert\")"
   ]
  },
  {
   "cell_type": "code",
   "execution_count": 4,
   "id": "46978dc1",
   "metadata": {
    "execution": {
     "iopub.execute_input": "2025-05-08T14:48:37.866173Z",
     "iopub.status.busy": "2025-05-08T14:48:37.865782Z",
     "iopub.status.idle": "2025-05-08T14:48:37.870889Z",
     "shell.execute_reply": "2025-05-08T14:48:37.870320Z"
    },
    "papermill": {
     "duration": 0.011211,
     "end_time": "2025-05-08T14:48:37.871890",
     "exception": false,
     "start_time": "2025-05-08T14:48:37.860679",
     "status": "completed"
    },
    "tags": []
   },
   "outputs": [],
   "source": [
    "class Dataset(torch.utils.data.Dataset):\n",
    "    def __init__(self, df, tokenizer):        \n",
    "        classes = ['neutral', 'positive', 'negative']\n",
    "\n",
    "        self.tokenizer = tokenizer\n",
    "        self.texts = df['text'].tolist()\n",
    "        self.labels = df['labels'].map(lambda x: classes.index(x)).tolist()\n",
    "\n",
    "    def __getitem__(self, idx):\n",
    "        res = self.tokenizer(self.texts[idx], truncation=True, padding='max_length', max_length=256, return_tensors=\"pt\")\n",
    "        res['labels'] = self.labels[idx]\n",
    "        return res\n",
    "\n",
    "    def __len__(self):\n",
    "        return len(self.labels)"
   ]
  },
  {
   "cell_type": "code",
   "execution_count": 5,
   "id": "4ced2496",
   "metadata": {
    "execution": {
     "iopub.execute_input": "2025-05-08T14:48:37.880438Z",
     "iopub.status.busy": "2025-05-08T14:48:37.880192Z",
     "iopub.status.idle": "2025-05-08T14:48:37.888292Z",
     "shell.execute_reply": "2025-05-08T14:48:37.887769Z"
    },
    "papermill": {
     "duration": 0.013596,
     "end_time": "2025-05-08T14:48:37.889360",
     "exception": false,
     "start_time": "2025-05-08T14:48:37.875764",
     "status": "completed"
    },
    "tags": []
   },
   "outputs": [],
   "source": [
    "val_dataset = Dataset(val_df, tokenizer)"
   ]
  },
  {
   "cell_type": "code",
   "execution_count": 6,
   "id": "0b194177",
   "metadata": {
    "execution": {
     "iopub.execute_input": "2025-05-08T14:48:37.897782Z",
     "iopub.status.busy": "2025-05-08T14:48:37.897204Z",
     "iopub.status.idle": "2025-05-08T14:48:37.900969Z",
     "shell.execute_reply": "2025-05-08T14:48:37.900279Z"
    },
    "papermill": {
     "duration": 0.008997,
     "end_time": "2025-05-08T14:48:37.902076",
     "exception": false,
     "start_time": "2025-05-08T14:48:37.893079",
     "status": "completed"
    },
    "tags": []
   },
   "outputs": [],
   "source": [
    "texts_2_score = val_df[\"text\"].to_list() + test_df[\"text\"].to_list()"
   ]
  },
  {
   "cell_type": "code",
   "execution_count": 7,
   "id": "1f0e6463",
   "metadata": {
    "execution": {
     "iopub.execute_input": "2025-05-08T14:48:37.910287Z",
     "iopub.status.busy": "2025-05-08T14:48:37.910115Z",
     "iopub.status.idle": "2025-05-08T14:48:37.913237Z",
     "shell.execute_reply": "2025-05-08T14:48:37.912752Z"
    },
    "papermill": {
     "duration": 0.008385,
     "end_time": "2025-05-08T14:48:37.914231",
     "exception": false,
     "start_time": "2025-05-08T14:48:37.905846",
     "status": "completed"
    },
    "tags": []
   },
   "outputs": [],
   "source": [
    "from torch.utils.data import DataLoader\n",
    "\n",
    "val_loader = DataLoader(val_dataset, 32, True)"
   ]
  },
  {
   "cell_type": "markdown",
   "id": "344731b2",
   "metadata": {
    "papermill": {
     "duration": 0.003546,
     "end_time": "2025-05-08T14:48:37.921541",
     "exception": false,
     "start_time": "2025-05-08T14:48:37.917995",
     "status": "completed"
    },
    "tags": []
   },
   "source": [
    "# MODEL CHANGES"
   ]
  },
  {
   "cell_type": "code",
   "execution_count": 8,
   "id": "32eba422",
   "metadata": {
    "execution": {
     "iopub.execute_input": "2025-05-08T14:48:37.930421Z",
     "iopub.status.busy": "2025-05-08T14:48:37.929797Z",
     "iopub.status.idle": "2025-05-08T14:48:37.937924Z",
     "shell.execute_reply": "2025-05-08T14:48:37.937456Z"
    },
    "papermill": {
     "duration": 0.013684,
     "end_time": "2025-05-08T14:48:37.938862",
     "exception": false,
     "start_time": "2025-05-08T14:48:37.925178",
     "status": "completed"
    },
    "tags": []
   },
   "outputs": [],
   "source": [
    "import random\n",
    "import os\n",
    "\n",
    "def set_all_seeds(seed=42):\n",
    "    # Устанавливаем seed для встроенного генератора Python\n",
    "    random.seed(seed)\n",
    "    # Устанавливаем seed для хэш-функции Python (опция для контроля поведения хэшей)\n",
    "    os.environ['PYTHONHASHSEED'] = str(seed)\n",
    "    # Устанавливаем seed для NumPy\n",
    "    np.random.seed(seed)\n",
    "\n",
    "    # Устанавливаем seed для PyTorch\n",
    "    torch.manual_seed(seed)\n",
    "    # Устанавливаем seed для генератора на CUDA\n",
    "    torch.cuda.manual_seed(seed)\n",
    "    # Отключаем недетерминированное поведение в алгоритмах CUDNN\n",
    "    torch.backends.cudnn.deterministic = True\n",
    "    torch.backends.cudnn.benchmark = False\n",
    "\n",
    "set_all_seeds()"
   ]
  },
  {
   "cell_type": "code",
   "execution_count": 9,
   "id": "e2504baa",
   "metadata": {
    "execution": {
     "iopub.execute_input": "2025-05-08T14:48:37.947082Z",
     "iopub.status.busy": "2025-05-08T14:48:37.946912Z",
     "iopub.status.idle": "2025-05-08T14:48:58.133503Z",
     "shell.execute_reply": "2025-05-08T14:48:58.132635Z"
    },
    "papermill": {
     "duration": 20.19234,
     "end_time": "2025-05-08T14:48:58.134953",
     "exception": false,
     "start_time": "2025-05-08T14:48:37.942613",
     "status": "completed"
    },
    "tags": []
   },
   "outputs": [
    {
     "data": {
      "application/vnd.jupyter.widget-view+json": {
       "model_id": "a0e99e959a704120b1b20e59849983e3",
       "version_major": 2,
       "version_minor": 0
      },
      "text/plain": [
       "config.json:   0%|          | 0.00/841 [00:00<?, ?B/s]"
      ]
     },
     "metadata": {},
     "output_type": "display_data"
    },
    {
     "name": "stderr",
     "output_type": "stream",
     "text": [
      "2025-05-08 14:48:45.518171: E external/local_xla/xla/stream_executor/cuda/cuda_fft.cc:477] Unable to register cuFFT factory: Attempting to register factory for plugin cuFFT when one has already been registered\n",
      "WARNING: All log messages before absl::InitializeLog() is called are written to STDERR\n",
      "E0000 00:00:1746715725.719899      19 cuda_dnn.cc:8310] Unable to register cuDNN factory: Attempting to register factory for plugin cuDNN when one has already been registered\n",
      "E0000 00:00:1746715725.775270      19 cuda_blas.cc:1418] Unable to register cuBLAS factory: Attempting to register factory for plugin cuBLAS when one has already been registered\n"
     ]
    },
    {
     "data": {
      "application/vnd.jupyter.widget-view+json": {
       "model_id": "7fcdd061388e4f9cad2d2333990b64d1",
       "version_major": 2,
       "version_minor": 0
      },
      "text/plain": [
       "model.safetensors:   0%|          | 0.00/438M [00:00<?, ?B/s]"
      ]
     },
     "metadata": {},
     "output_type": "display_data"
    }
   ],
   "source": [
    "model = AutoModelForSequenceClassification.from_pretrained(\"Ilseyar-kfu/broken_bert\").to('cuda')"
   ]
  },
  {
   "cell_type": "code",
   "execution_count": 10,
   "id": "cdc758c4",
   "metadata": {
    "execution": {
     "iopub.execute_input": "2025-05-08T14:48:58.144600Z",
     "iopub.status.busy": "2025-05-08T14:48:58.144097Z",
     "iopub.status.idle": "2025-05-08T14:48:58.148447Z",
     "shell.execute_reply": "2025-05-08T14:48:58.147880Z"
    },
    "papermill": {
     "duration": 0.010061,
     "end_time": "2025-05-08T14:48:58.149543",
     "exception": false,
     "start_time": "2025-05-08T14:48:58.139482",
     "status": "completed"
    },
    "tags": []
   },
   "outputs": [],
   "source": [
    "def forward_with_custom_embeddings(model, inputs, new_embedings):\n",
    "    # Сохраняем оригинальные веса\n",
    "    original_weights = model.bert.embeddings.word_embeddings.weight.clone()\n",
    "\n",
    "    # Обнуляем все остальные веса\n",
    "    model.bert.embeddings.word_embeddings = new_embedings\n",
    "\n",
    "    # Прогоняем модель с измененными весами\n",
    "    outputs = model(**inputs).logits\n",
    "\n",
    "    # Восстанавливаем оригинальные веса\n",
    "    with torch.no_grad():\n",
    "        model.bert.embeddings.word_embeddings.weight.copy_(original_weights)\n",
    "\n",
    "    return outputs"
   ]
  },
  {
   "cell_type": "code",
   "execution_count": 11,
   "id": "c8a8e393",
   "metadata": {
    "execution": {
     "iopub.execute_input": "2025-05-08T14:48:58.158125Z",
     "iopub.status.busy": "2025-05-08T14:48:58.157911Z",
     "iopub.status.idle": "2025-05-08T14:48:58.386100Z",
     "shell.execute_reply": "2025-05-08T14:48:58.385500Z"
    },
    "papermill": {
     "duration": 0.233862,
     "end_time": "2025-05-08T14:48:58.387374",
     "exception": false,
     "start_time": "2025-05-08T14:48:58.153512",
     "status": "completed"
    },
    "tags": []
   },
   "outputs": [],
   "source": [
    "# НЕ ОБУЧАЮ МОДЕЛЬ, ОТДЕЛЬНЫЕ ЕМБЕДИНГИ !!!!!!!!!!!!!!!!!!!!!\n",
    "# Использую модель чисто как помощь в обучении !!!!!!!!!\n",
    "\n",
    "new_embedings = torch.nn.Embedding(30522, 768, padding_idx=0)\n",
    "new_embedings.weight = torch.nn.Parameter(model.bert.embeddings.word_embeddings.weight.clone()) # изначальные как у bert\n",
    "new_embedings = new_embedings.to('cuda')\n",
    "\n",
    "# MAGIC IS HERE\n",
    "optimizer = torch.optim.AdamW(new_embedings.parameters(), lr=1e-3)\n",
    "loss_fn = torch.nn.CrossEntropyLoss()"
   ]
  },
  {
   "cell_type": "code",
   "execution_count": 12,
   "id": "0cdb8ffd",
   "metadata": {
    "execution": {
     "iopub.execute_input": "2025-05-08T14:48:58.396975Z",
     "iopub.status.busy": "2025-05-08T14:48:58.396728Z",
     "iopub.status.idle": "2025-05-08T14:49:56.119042Z",
     "shell.execute_reply": "2025-05-08T14:49:56.118051Z"
    },
    "papermill": {
     "duration": 57.728503,
     "end_time": "2025-05-08T14:49:56.120418",
     "exception": false,
     "start_time": "2025-05-08T14:48:58.391915",
     "status": "completed"
    },
    "tags": []
   },
   "outputs": [
    {
     "name": "stderr",
     "output_type": "stream",
     "text": [
      "100%|██████████| 79/79 [00:57<00:00,  1.37it/s, acc=0.506, loss=1.02]\n"
     ]
    }
   ],
   "source": [
    "# Changing embeddings\n",
    "from sklearn.metrics import accuracy_score\n",
    "from tqdm import tqdm\n",
    "\n",
    "num_epochs = 1\n",
    "for epoch in range(1, num_epochs + 1):\n",
    "    losses = list()\n",
    "    accs = list()\n",
    "    progress_bar = tqdm(val_loader)\n",
    "    for batch in progress_bar:\n",
    "        labels = batch.pop('labels').to('cuda')\n",
    "    \n",
    "        for key in batch:\n",
    "            batch[key] = batch[key].squeeze().to('cuda')\n",
    "        \n",
    "        optimizer.zero_grad()\n",
    "\n",
    "        # прогон через ембединги НЕ ТРОГАЯ ЕМБЕДИНГИ МОДЕЛИ\n",
    "        logits = forward_with_custom_embeddings(model, batch, new_embedings)\n",
    "        loss = loss_fn(logits, labels)\n",
    "        loss.backward()\n",
    "        torch.nn.utils.clip_grad_norm_(new_embedings.parameters(), 5.0)\n",
    "        optimizer.step()\n",
    "\n",
    "        losses.append(loss.item())\n",
    "        accs.append(accuracy_score(labels.cpu().numpy(), logits.argmax(1).cpu().numpy()))\n",
    "    \n",
    "        progress_bar.set_postfix(acc=np.mean(accs).round(4), loss=np.mean(losses).round(4))"
   ]
  },
  {
   "cell_type": "code",
   "execution_count": 13,
   "id": "144a4591",
   "metadata": {
    "execution": {
     "iopub.execute_input": "2025-05-08T14:49:56.149465Z",
     "iopub.status.busy": "2025-05-08T14:49:56.149206Z",
     "iopub.status.idle": "2025-05-08T14:49:56.153718Z",
     "shell.execute_reply": "2025-05-08T14:49:56.152769Z"
    },
    "papermill": {
     "duration": 0.01978,
     "end_time": "2025-05-08T14:49:56.155255",
     "exception": false,
     "start_time": "2025-05-08T14:49:56.135475",
     "status": "completed"
    },
    "tags": []
   },
   "outputs": [],
   "source": [
    "model.bert.embeddings.word_embeddings.weight = torch.nn.Parameter(torch.Tensor(new_embedings.weight))"
   ]
  },
  {
   "cell_type": "markdown",
   "id": "f63f5475",
   "metadata": {
    "papermill": {
     "duration": 0.015514,
     "end_time": "2025-05-08T14:49:56.190258",
     "exception": false,
     "start_time": "2025-05-08T14:49:56.174744",
     "status": "completed"
    },
    "tags": []
   },
   "source": [
    "### Legalize"
   ]
  },
  {
   "cell_type": "code",
   "execution_count": 14,
   "id": "92de0222",
   "metadata": {
    "execution": {
     "iopub.execute_input": "2025-05-08T14:49:56.211416Z",
     "iopub.status.busy": "2025-05-08T14:49:56.211158Z",
     "iopub.status.idle": "2025-05-08T14:49:56.214415Z",
     "shell.execute_reply": "2025-05-08T14:49:56.213733Z"
    },
    "papermill": {
     "duration": 0.01526,
     "end_time": "2025-05-08T14:49:56.215562",
     "exception": false,
     "start_time": "2025-05-08T14:49:56.200302",
     "status": "completed"
    },
    "tags": []
   },
   "outputs": [],
   "source": [
    "# import fasttext\n",
    "\n",
    "# ft_model = fasttext.train_supervised(input=\"fasttext.txt\", epoch=10, dim=768, lr=0.25)"
   ]
  },
  {
   "cell_type": "markdown",
   "id": "5ea5f547",
   "metadata": {
    "papermill": {
     "duration": 0.009674,
     "end_time": "2025-05-08T14:49:56.235118",
     "exception": false,
     "start_time": "2025-05-08T14:49:56.225444",
     "status": "completed"
    },
    "tags": []
   },
   "source": [
    "# EVALUATION"
   ]
  },
  {
   "cell_type": "code",
   "execution_count": 15,
   "id": "fda785fe",
   "metadata": {
    "execution": {
     "iopub.execute_input": "2025-05-08T14:49:56.256117Z",
     "iopub.status.busy": "2025-05-08T14:49:56.255461Z",
     "iopub.status.idle": "2025-05-08T14:49:59.137730Z",
     "shell.execute_reply": "2025-05-08T14:49:59.137070Z"
    },
    "papermill": {
     "duration": 2.893913,
     "end_time": "2025-05-08T14:49:59.138883",
     "exception": false,
     "start_time": "2025-05-08T14:49:56.244970",
     "status": "completed"
    },
    "tags": []
   },
   "outputs": [
    {
     "data": {
      "text/html": [
       "<button onClick=\"this.nextSibling.style.display='block';this.style.display='none';\">Display W&B run</button><iframe src='https://wandb.ai/dummy/dummy/runs/vxh7mm5k?jupyter=true' style='border:none;width:100%;height:420px;display:none;'></iframe>"
      ],
      "text/plain": [
       "<wandb.sdk.wandb_run.Run at 0x7c25e7c4ad90>"
      ]
     },
     "execution_count": 15,
     "metadata": {},
     "output_type": "execute_result"
    }
   ],
   "source": [
    "from sklearn.metrics import f1_score\n",
    "from numpy import argmax\n",
    "from transformers import pipeline\n",
    "import wandb\n",
    "wandb.init(mode= \"disabled\")"
   ]
  },
  {
   "cell_type": "code",
   "execution_count": 16,
   "id": "bdf10053",
   "metadata": {
    "execution": {
     "iopub.execute_input": "2025-05-08T14:49:59.160169Z",
     "iopub.status.busy": "2025-05-08T14:49:59.159959Z",
     "iopub.status.idle": "2025-05-08T14:49:59.164472Z",
     "shell.execute_reply": "2025-05-08T14:49:59.163878Z"
    },
    "papermill": {
     "duration": 0.016095,
     "end_time": "2025-05-08T14:49:59.165438",
     "exception": false,
     "start_time": "2025-05-08T14:49:59.149343",
     "status": "completed"
    },
    "tags": []
   },
   "outputs": [],
   "source": [
    "from sklearn.metrics import classification_report\n",
    "\n",
    "def evaluate_on_validation(model, tokenizer, df_val):\n",
    "    label_2_dict = {'LABEL_0': 'neutral', \"LABEL_1\" : 'positive', \"LABEL_2\": 'negative'}\n",
    "    classifier = pipeline(\"text-classification\", model= model, tokenizer = tokenizer)\n",
    "    answ = classifier.predict(list(df_val[\"text\"]))\n",
    "    answ = [label_2_dict[el[\"label\"]] for el in answ]\n",
    "    \n",
    "    # print(f1_score(p.label_ids, preds, average='macro'))\n",
    "    print(classification_report(df_val[\"labels\"], answ))"
   ]
  },
  {
   "cell_type": "code",
   "execution_count": 17,
   "id": "ba512553",
   "metadata": {
    "execution": {
     "iopub.execute_input": "2025-05-08T14:49:59.185987Z",
     "iopub.status.busy": "2025-05-08T14:49:59.185781Z",
     "iopub.status.idle": "2025-05-08T14:50:18.344971Z",
     "shell.execute_reply": "2025-05-08T14:50:18.344023Z"
    },
    "papermill": {
     "duration": 19.17097,
     "end_time": "2025-05-08T14:50:18.346278",
     "exception": false,
     "start_time": "2025-05-08T14:49:59.175308",
     "status": "completed"
    },
    "tags": []
   },
   "outputs": [
    {
     "name": "stderr",
     "output_type": "stream",
     "text": [
      "Device set to use cuda:0\n"
     ]
    },
    {
     "name": "stdout",
     "output_type": "stream",
     "text": [
      "              precision    recall  f1-score   support\n",
      "\n",
      "    negative       0.86      0.89      0.87       935\n",
      "     neutral       0.78      0.79      0.79       759\n",
      "    positive       0.92      0.87      0.89       806\n",
      "\n",
      "    accuracy                           0.85      2500\n",
      "   macro avg       0.85      0.85      0.85      2500\n",
      "weighted avg       0.86      0.85      0.85      2500\n",
      "\n"
     ]
    }
   ],
   "source": [
    "evaluate_on_validation(model, tokenizer, val_df)"
   ]
  },
  {
   "cell_type": "markdown",
   "id": "e6566cb5",
   "metadata": {
    "papermill": {
     "duration": 0.009876,
     "end_time": "2025-05-08T14:50:18.366606",
     "exception": false,
     "start_time": "2025-05-08T14:50:18.356730",
     "status": "completed"
    },
    "tags": []
   },
   "source": [
    "# MODEL SCORING\n",
    "When you make a submit, \n",
    "1. Make a Quick Save of the notebook, otherwise we may reject your solution! \n",
    "2. Add notebook version to the comment for the submit.\n",
    "\n",
    "===\n",
    "\n",
    "При отправке решения:\n",
    "\n",
    "1. Сделайте Quick Save ноутбука, иначе мы можем отклонить ваше решение!\n",
    "2. Добавьте версию ноутбука в комментарий к отправке."
   ]
  },
  {
   "cell_type": "code",
   "execution_count": 18,
   "id": "6cc0a8ac",
   "metadata": {
    "execution": {
     "iopub.execute_input": "2025-05-08T14:50:18.387725Z",
     "iopub.status.busy": "2025-05-08T14:50:18.387097Z",
     "iopub.status.idle": "2025-05-08T14:50:18.392350Z",
     "shell.execute_reply": "2025-05-08T14:50:18.391608Z"
    },
    "papermill": {
     "duration": 0.017034,
     "end_time": "2025-05-08T14:50:18.393524",
     "exception": false,
     "start_time": "2025-05-08T14:50:18.376490",
     "status": "completed"
    },
    "tags": []
   },
   "outputs": [],
   "source": [
    "import hashlib\n",
    "\n",
    "def create_submission(model, tokenizer, df_test):\n",
    "    label_2_dict = {'LABEL_0': 'neutral', \"LABEL_1\": 'positive', \"LABEL_2\": 'negative'}\n",
    "    classifier = pipeline(\"text-classification\", model=model, tokenizer=tokenizer)\n",
    "    answ = classifier.predict(list(df_test[\"text\"]))\n",
    "    answ = [label_2_dict[el[\"label\"]] for el in answ]\n",
    "    \n",
    "    df = pd.DataFrame({\"labels\" : answ, \"id\": df_test['id']})\n",
    "    hsh = hashlib.sha256(df.to_csv(index=False).encode('utf-8')).hexdigest()[:8]\n",
    "    submit_path = f\"submit_{hsh}.csv\"\n",
    "    print(f\"SUBMIT_NAME: {submit_path}\")\n",
    "    print(df.head(10))\n",
    "    df.to_csv(submit_path,index=False)"
   ]
  },
  {
   "cell_type": "code",
   "execution_count": 19,
   "id": "a779ceba",
   "metadata": {
    "execution": {
     "iopub.execute_input": "2025-05-08T14:50:18.414552Z",
     "iopub.status.busy": "2025-05-08T14:50:18.414288Z",
     "iopub.status.idle": "2025-05-08T14:50:37.390843Z",
     "shell.execute_reply": "2025-05-08T14:50:37.389872Z"
    },
    "papermill": {
     "duration": 18.988656,
     "end_time": "2025-05-08T14:50:37.392259",
     "exception": false,
     "start_time": "2025-05-08T14:50:18.403603",
     "status": "completed"
    },
    "tags": []
   },
   "outputs": [
    {
     "name": "stderr",
     "output_type": "stream",
     "text": [
      "Device set to use cuda:0\n"
     ]
    },
    {
     "name": "stdout",
     "output_type": "stream",
     "text": [
      "SUBMIT_NAME: submit_ea352c64.csv\n",
      "     labels    id\n",
      "0  negative  5000\n",
      "1  positive  5001\n",
      "2   neutral  5002\n",
      "3   neutral  5003\n",
      "4  positive  5004\n",
      "5  negative  5005\n",
      "6  negative  5006\n",
      "7  negative  5007\n",
      "8  negative  5008\n",
      "9  positive  5009\n"
     ]
    }
   ],
   "source": [
    "create_submission(model, tokenizer, test_df)"
   ]
  }
 ],
 "metadata": {
  "kaggle": {
   "accelerator": "gpu",
   "dataSources": [
    {
     "databundleVersionId": 12209210,
     "sourceId": 100973,
     "sourceType": "competition"
    }
   ],
   "dockerImageVersionId": 31011,
   "isGpuEnabled": true,
   "isInternetEnabled": true,
   "language": "python",
   "sourceType": "notebook"
  },
  "kernelspec": {
   "display_name": "Python 3",
   "language": "python",
   "name": "python3"
  },
  "language_info": {
   "codemirror_mode": {
    "name": "ipython",
    "version": 3
   },
   "file_extension": ".py",
   "mimetype": "text/x-python",
   "name": "python",
   "nbconvert_exporter": "python",
   "pygments_lexer": "ipython3",
   "version": "3.11.11"
  },
  "papermill": {
   "default_parameters": {},
   "duration": 139.276392,
   "end_time": "2025-05-08T14:50:40.405243",
   "environment_variables": {},
   "exception": null,
   "input_path": "__notebook__.ipynb",
   "output_path": "__notebook__.ipynb",
   "parameters": {},
   "start_time": "2025-05-08T14:48:21.128851",
   "version": "2.6.0"
  },
  "widgets": {
   "application/vnd.jupyter.widget-state+json": {
    "state": {
     "024ac12a2b2041a58c999367ae43d80e": {
      "model_module": "@jupyter-widgets/base",
      "model_module_version": "2.0.0",
      "model_name": "LayoutModel",
      "state": {
       "_model_module": "@jupyter-widgets/base",
       "_model_module_version": "2.0.0",
       "_model_name": "LayoutModel",
       "_view_count": null,
       "_view_module": "@jupyter-widgets/base",
       "_view_module_version": "2.0.0",
       "_view_name": "LayoutView",
       "align_content": null,
       "align_items": null,
       "align_self": null,
       "border_bottom": null,
       "border_left": null,
       "border_right": null,
       "border_top": null,
       "bottom": null,
       "display": null,
       "flex": null,
       "flex_flow": null,
       "grid_area": null,
       "grid_auto_columns": null,
       "grid_auto_flow": null,
       "grid_auto_rows": null,
       "grid_column": null,
       "grid_gap": null,
       "grid_row": null,
       "grid_template_areas": null,
       "grid_template_columns": null,
       "grid_template_rows": null,
       "height": null,
       "justify_content": null,
       "justify_items": null,
       "left": null,
       "margin": null,
       "max_height": null,
       "max_width": null,
       "min_height": null,
       "min_width": null,
       "object_fit": null,
       "object_position": null,
       "order": null,
       "overflow": null,
       "padding": null,
       "right": null,
       "top": null,
       "visibility": null,
       "width": null
      }
     },
     "02f10141b3fe4851a31911000ba36fcd": {
      "model_module": "@jupyter-widgets/controls",
      "model_module_version": "2.0.0",
      "model_name": "ProgressStyleModel",
      "state": {
       "_model_module": "@jupyter-widgets/controls",
       "_model_module_version": "2.0.0",
       "_model_name": "ProgressStyleModel",
       "_view_count": null,
       "_view_module": "@jupyter-widgets/base",
       "_view_module_version": "2.0.0",
       "_view_name": "StyleView",
       "bar_color": null,
       "description_width": ""
      }
     },
     "0bdbbee673574497806488d70ed54660": {
      "model_module": "@jupyter-widgets/controls",
      "model_module_version": "2.0.0",
      "model_name": "ProgressStyleModel",
      "state": {
       "_model_module": "@jupyter-widgets/controls",
       "_model_module_version": "2.0.0",
       "_model_name": "ProgressStyleModel",
       "_view_count": null,
       "_view_module": "@jupyter-widgets/base",
       "_view_module_version": "2.0.0",
       "_view_name": "StyleView",
       "bar_color": null,
       "description_width": ""
      }
     },
     "0e05e3e5ee9a4b2e971c5a72c971aaaf": {
      "model_module": "@jupyter-widgets/controls",
      "model_module_version": "2.0.0",
      "model_name": "HTMLStyleModel",
      "state": {
       "_model_module": "@jupyter-widgets/controls",
       "_model_module_version": "2.0.0",
       "_model_name": "HTMLStyleModel",
       "_view_count": null,
       "_view_module": "@jupyter-widgets/base",
       "_view_module_version": "2.0.0",
       "_view_name": "StyleView",
       "background": null,
       "description_width": "",
       "font_size": null,
       "text_color": null
      }
     },
     "11fc5dac9cbb44f48fd1ec9d92b49366": {
      "model_module": "@jupyter-widgets/base",
      "model_module_version": "2.0.0",
      "model_name": "LayoutModel",
      "state": {
       "_model_module": "@jupyter-widgets/base",
       "_model_module_version": "2.0.0",
       "_model_name": "LayoutModel",
       "_view_count": null,
       "_view_module": "@jupyter-widgets/base",
       "_view_module_version": "2.0.0",
       "_view_name": "LayoutView",
       "align_content": null,
       "align_items": null,
       "align_self": null,
       "border_bottom": null,
       "border_left": null,
       "border_right": null,
       "border_top": null,
       "bottom": null,
       "display": null,
       "flex": null,
       "flex_flow": null,
       "grid_area": null,
       "grid_auto_columns": null,
       "grid_auto_flow": null,
       "grid_auto_rows": null,
       "grid_column": null,
       "grid_gap": null,
       "grid_row": null,
       "grid_template_areas": null,
       "grid_template_columns": null,
       "grid_template_rows": null,
       "height": null,
       "justify_content": null,
       "justify_items": null,
       "left": null,
       "margin": null,
       "max_height": null,
       "max_width": null,
       "min_height": null,
       "min_width": null,
       "object_fit": null,
       "object_position": null,
       "order": null,
       "overflow": null,
       "padding": null,
       "right": null,
       "top": null,
       "visibility": null,
       "width": null
      }
     },
     "13bbb885e5334cf591072680580a1bf6": {
      "model_module": "@jupyter-widgets/controls",
      "model_module_version": "2.0.0",
      "model_name": "HTMLStyleModel",
      "state": {
       "_model_module": "@jupyter-widgets/controls",
       "_model_module_version": "2.0.0",
       "_model_name": "HTMLStyleModel",
       "_view_count": null,
       "_view_module": "@jupyter-widgets/base",
       "_view_module_version": "2.0.0",
       "_view_name": "StyleView",
       "background": null,
       "description_width": "",
       "font_size": null,
       "text_color": null
      }
     },
     "16966e4873d84537bb543f6bc4d03bbb": {
      "model_module": "@jupyter-widgets/base",
      "model_module_version": "2.0.0",
      "model_name": "LayoutModel",
      "state": {
       "_model_module": "@jupyter-widgets/base",
       "_model_module_version": "2.0.0",
       "_model_name": "LayoutModel",
       "_view_count": null,
       "_view_module": "@jupyter-widgets/base",
       "_view_module_version": "2.0.0",
       "_view_name": "LayoutView",
       "align_content": null,
       "align_items": null,
       "align_self": null,
       "border_bottom": null,
       "border_left": null,
       "border_right": null,
       "border_top": null,
       "bottom": null,
       "display": null,
       "flex": null,
       "flex_flow": null,
       "grid_area": null,
       "grid_auto_columns": null,
       "grid_auto_flow": null,
       "grid_auto_rows": null,
       "grid_column": null,
       "grid_gap": null,
       "grid_row": null,
       "grid_template_areas": null,
       "grid_template_columns": null,
       "grid_template_rows": null,
       "height": null,
       "justify_content": null,
       "justify_items": null,
       "left": null,
       "margin": null,
       "max_height": null,
       "max_width": null,
       "min_height": null,
       "min_width": null,
       "object_fit": null,
       "object_position": null,
       "order": null,
       "overflow": null,
       "padding": null,
       "right": null,
       "top": null,
       "visibility": null,
       "width": null
      }
     },
     "1d59c24c631b4c15a06cdbdcf9fb7237": {
      "model_module": "@jupyter-widgets/controls",
      "model_module_version": "2.0.0",
      "model_name": "FloatProgressModel",
      "state": {
       "_dom_classes": [],
       "_model_module": "@jupyter-widgets/controls",
       "_model_module_version": "2.0.0",
       "_model_name": "FloatProgressModel",
       "_view_count": null,
       "_view_module": "@jupyter-widgets/controls",
       "_view_module_version": "2.0.0",
       "_view_name": "ProgressView",
       "bar_style": "success",
       "description": "",
       "description_allow_html": false,
       "layout": "IPY_MODEL_9551cabc99d04dc7ae98b0da0e77d21f",
       "max": 1272.0,
       "min": 0.0,
       "orientation": "horizontal",
       "style": "IPY_MODEL_42b1cacba8d24c13b4fd30e41dcf59a6",
       "tabbable": null,
       "tooltip": null,
       "value": 1272.0
      }
     },
     "2181e348afeb4b0fa8166baf0285b2bd": {
      "model_module": "@jupyter-widgets/base",
      "model_module_version": "2.0.0",
      "model_name": "LayoutModel",
      "state": {
       "_model_module": "@jupyter-widgets/base",
       "_model_module_version": "2.0.0",
       "_model_name": "LayoutModel",
       "_view_count": null,
       "_view_module": "@jupyter-widgets/base",
       "_view_module_version": "2.0.0",
       "_view_name": "LayoutView",
       "align_content": null,
       "align_items": null,
       "align_self": null,
       "border_bottom": null,
       "border_left": null,
       "border_right": null,
       "border_top": null,
       "bottom": null,
       "display": null,
       "flex": null,
       "flex_flow": null,
       "grid_area": null,
       "grid_auto_columns": null,
       "grid_auto_flow": null,
       "grid_auto_rows": null,
       "grid_column": null,
       "grid_gap": null,
       "grid_row": null,
       "grid_template_areas": null,
       "grid_template_columns": null,
       "grid_template_rows": null,
       "height": null,
       "justify_content": null,
       "justify_items": null,
       "left": null,
       "margin": null,
       "max_height": null,
       "max_width": null,
       "min_height": null,
       "min_width": null,
       "object_fit": null,
       "object_position": null,
       "order": null,
       "overflow": null,
       "padding": null,
       "right": null,
       "top": null,
       "visibility": null,
       "width": null
      }
     },
     "25287dc3f5cd4de4b7b1cf491c27a344": {
      "model_module": "@jupyter-widgets/controls",
      "model_module_version": "2.0.0",
      "model_name": "ProgressStyleModel",
      "state": {
       "_model_module": "@jupyter-widgets/controls",
       "_model_module_version": "2.0.0",
       "_model_name": "ProgressStyleModel",
       "_view_count": null,
       "_view_module": "@jupyter-widgets/base",
       "_view_module_version": "2.0.0",
       "_view_name": "StyleView",
       "bar_color": null,
       "description_width": ""
      }
     },
     "2b180cf32ea9462c81203baa0d40ea0a": {
      "model_module": "@jupyter-widgets/controls",
      "model_module_version": "2.0.0",
      "model_name": "HTMLStyleModel",
      "state": {
       "_model_module": "@jupyter-widgets/controls",
       "_model_module_version": "2.0.0",
       "_model_name": "HTMLStyleModel",
       "_view_count": null,
       "_view_module": "@jupyter-widgets/base",
       "_view_module_version": "2.0.0",
       "_view_name": "StyleView",
       "background": null,
       "description_width": "",
       "font_size": null,
       "text_color": null
      }
     },
     "2efa78872e544564bd78eb1803715204": {
      "model_module": "@jupyter-widgets/controls",
      "model_module_version": "2.0.0",
      "model_name": "HTMLStyleModel",
      "state": {
       "_model_module": "@jupyter-widgets/controls",
       "_model_module_version": "2.0.0",
       "_model_name": "HTMLStyleModel",
       "_view_count": null,
       "_view_module": "@jupyter-widgets/base",
       "_view_module_version": "2.0.0",
       "_view_name": "StyleView",
       "background": null,
       "description_width": "",
       "font_size": null,
       "text_color": null
      }
     },
     "32e22ac6d7734566ba12a9a32576e531": {
      "model_module": "@jupyter-widgets/base",
      "model_module_version": "2.0.0",
      "model_name": "LayoutModel",
      "state": {
       "_model_module": "@jupyter-widgets/base",
       "_model_module_version": "2.0.0",
       "_model_name": "LayoutModel",
       "_view_count": null,
       "_view_module": "@jupyter-widgets/base",
       "_view_module_version": "2.0.0",
       "_view_name": "LayoutView",
       "align_content": null,
       "align_items": null,
       "align_self": null,
       "border_bottom": null,
       "border_left": null,
       "border_right": null,
       "border_top": null,
       "bottom": null,
       "display": null,
       "flex": null,
       "flex_flow": null,
       "grid_area": null,
       "grid_auto_columns": null,
       "grid_auto_flow": null,
       "grid_auto_rows": null,
       "grid_column": null,
       "grid_gap": null,
       "grid_row": null,
       "grid_template_areas": null,
       "grid_template_columns": null,
       "grid_template_rows": null,
       "height": null,
       "justify_content": null,
       "justify_items": null,
       "left": null,
       "margin": null,
       "max_height": null,
       "max_width": null,
       "min_height": null,
       "min_width": null,
       "object_fit": null,
       "object_position": null,
       "order": null,
       "overflow": null,
       "padding": null,
       "right": null,
       "top": null,
       "visibility": null,
       "width": null
      }
     },
     "3a533907ddef41a6a2e75ef31a9d7622": {
      "model_module": "@jupyter-widgets/controls",
      "model_module_version": "2.0.0",
      "model_name": "HTMLStyleModel",
      "state": {
       "_model_module": "@jupyter-widgets/controls",
       "_model_module_version": "2.0.0",
       "_model_name": "HTMLStyleModel",
       "_view_count": null,
       "_view_module": "@jupyter-widgets/base",
       "_view_module_version": "2.0.0",
       "_view_name": "StyleView",
       "background": null,
       "description_width": "",
       "font_size": null,
       "text_color": null
      }
     },
     "3f07e8338d87498ba51cf6cb588fc3ad": {
      "model_module": "@jupyter-widgets/controls",
      "model_module_version": "2.0.0",
      "model_name": "HBoxModel",
      "state": {
       "_dom_classes": [],
       "_model_module": "@jupyter-widgets/controls",
       "_model_module_version": "2.0.0",
       "_model_name": "HBoxModel",
       "_view_count": null,
       "_view_module": "@jupyter-widgets/controls",
       "_view_module_version": "2.0.0",
       "_view_name": "HBoxView",
       "box_style": "",
       "children": [
        "IPY_MODEL_d1af7856368149b895baa5f171edd7dd",
        "IPY_MODEL_1d59c24c631b4c15a06cdbdcf9fb7237",
        "IPY_MODEL_93cf9d4f2eea4ef8b2dd29be849e1e25"
       ],
       "layout": "IPY_MODEL_11fc5dac9cbb44f48fd1ec9d92b49366",
       "tabbable": null,
       "tooltip": null
      }
     },
     "417ed6a78c22402d979d8d677effb327": {
      "model_module": "@jupyter-widgets/controls",
      "model_module_version": "2.0.0",
      "model_name": "HTMLModel",
      "state": {
       "_dom_classes": [],
       "_model_module": "@jupyter-widgets/controls",
       "_model_module_version": "2.0.0",
       "_model_name": "HTMLModel",
       "_view_count": null,
       "_view_module": "@jupyter-widgets/controls",
       "_view_module_version": "2.0.0",
       "_view_name": "HTMLView",
       "description": "",
       "description_allow_html": false,
       "layout": "IPY_MODEL_2181e348afeb4b0fa8166baf0285b2bd",
       "placeholder": "​",
       "style": "IPY_MODEL_e5d0f0c101864c2ba0744408b8e42078",
       "tabbable": null,
       "tooltip": null,
       "value": "config.json: 100%"
      }
     },
     "42b1cacba8d24c13b4fd30e41dcf59a6": {
      "model_module": "@jupyter-widgets/controls",
      "model_module_version": "2.0.0",
      "model_name": "ProgressStyleModel",
      "state": {
       "_model_module": "@jupyter-widgets/controls",
       "_model_module_version": "2.0.0",
       "_model_name": "ProgressStyleModel",
       "_view_count": null,
       "_view_module": "@jupyter-widgets/base",
       "_view_module_version": "2.0.0",
       "_view_name": "StyleView",
       "bar_color": null,
       "description_width": ""
      }
     },
     "435d993fd4a84bb7ab08fa11a49126f1": {
      "model_module": "@jupyter-widgets/base",
      "model_module_version": "2.0.0",
      "model_name": "LayoutModel",
      "state": {
       "_model_module": "@jupyter-widgets/base",
       "_model_module_version": "2.0.0",
       "_model_name": "LayoutModel",
       "_view_count": null,
       "_view_module": "@jupyter-widgets/base",
       "_view_module_version": "2.0.0",
       "_view_name": "LayoutView",
       "align_content": null,
       "align_items": null,
       "align_self": null,
       "border_bottom": null,
       "border_left": null,
       "border_right": null,
       "border_top": null,
       "bottom": null,
       "display": null,
       "flex": null,
       "flex_flow": null,
       "grid_area": null,
       "grid_auto_columns": null,
       "grid_auto_flow": null,
       "grid_auto_rows": null,
       "grid_column": null,
       "grid_gap": null,
       "grid_row": null,
       "grid_template_areas": null,
       "grid_template_columns": null,
       "grid_template_rows": null,
       "height": null,
       "justify_content": null,
       "justify_items": null,
       "left": null,
       "margin": null,
       "max_height": null,
       "max_width": null,
       "min_height": null,
       "min_width": null,
       "object_fit": null,
       "object_position": null,
       "order": null,
       "overflow": null,
       "padding": null,
       "right": null,
       "top": null,
       "visibility": null,
       "width": null
      }
     },
     "4c8b1b538f7d487b94e9b6d04c57062c": {
      "model_module": "@jupyter-widgets/controls",
      "model_module_version": "2.0.0",
      "model_name": "FloatProgressModel",
      "state": {
       "_dom_classes": [],
       "_model_module": "@jupyter-widgets/controls",
       "_model_module_version": "2.0.0",
       "_model_name": "FloatProgressModel",
       "_view_count": null,
       "_view_module": "@jupyter-widgets/controls",
       "_view_module_version": "2.0.0",
       "_view_name": "ProgressView",
       "bar_style": "success",
       "description": "",
       "description_allow_html": false,
       "layout": "IPY_MODEL_c491f946e76a45adbd53052805c37b54",
       "max": 125.0,
       "min": 0.0,
       "orientation": "horizontal",
       "style": "IPY_MODEL_25287dc3f5cd4de4b7b1cf491c27a344",
       "tabbable": null,
       "tooltip": null,
       "value": 125.0
      }
     },
     "4fd0a4759d7e4749b20d220f9d85e6ca": {
      "model_module": "@jupyter-widgets/base",
      "model_module_version": "2.0.0",
      "model_name": "LayoutModel",
      "state": {
       "_model_module": "@jupyter-widgets/base",
       "_model_module_version": "2.0.0",
       "_model_name": "LayoutModel",
       "_view_count": null,
       "_view_module": "@jupyter-widgets/base",
       "_view_module_version": "2.0.0",
       "_view_name": "LayoutView",
       "align_content": null,
       "align_items": null,
       "align_self": null,
       "border_bottom": null,
       "border_left": null,
       "border_right": null,
       "border_top": null,
       "bottom": null,
       "display": null,
       "flex": null,
       "flex_flow": null,
       "grid_area": null,
       "grid_auto_columns": null,
       "grid_auto_flow": null,
       "grid_auto_rows": null,
       "grid_column": null,
       "grid_gap": null,
       "grid_row": null,
       "grid_template_areas": null,
       "grid_template_columns": null,
       "grid_template_rows": null,
       "height": null,
       "justify_content": null,
       "justify_items": null,
       "left": null,
       "margin": null,
       "max_height": null,
       "max_width": null,
       "min_height": null,
       "min_width": null,
       "object_fit": null,
       "object_position": null,
       "order": null,
       "overflow": null,
       "padding": null,
       "right": null,
       "top": null,
       "visibility": null,
       "width": null
      }
     },
     "65ec04be138d43e48fb729fd1c3502ed": {
      "model_module": "@jupyter-widgets/base",
      "model_module_version": "2.0.0",
      "model_name": "LayoutModel",
      "state": {
       "_model_module": "@jupyter-widgets/base",
       "_model_module_version": "2.0.0",
       "_model_name": "LayoutModel",
       "_view_count": null,
       "_view_module": "@jupyter-widgets/base",
       "_view_module_version": "2.0.0",
       "_view_name": "LayoutView",
       "align_content": null,
       "align_items": null,
       "align_self": null,
       "border_bottom": null,
       "border_left": null,
       "border_right": null,
       "border_top": null,
       "bottom": null,
       "display": null,
       "flex": null,
       "flex_flow": null,
       "grid_area": null,
       "grid_auto_columns": null,
       "grid_auto_flow": null,
       "grid_auto_rows": null,
       "grid_column": null,
       "grid_gap": null,
       "grid_row": null,
       "grid_template_areas": null,
       "grid_template_columns": null,
       "grid_template_rows": null,
       "height": null,
       "justify_content": null,
       "justify_items": null,
       "left": null,
       "margin": null,
       "max_height": null,
       "max_width": null,
       "min_height": null,
       "min_width": null,
       "object_fit": null,
       "object_position": null,
       "order": null,
       "overflow": null,
       "padding": null,
       "right": null,
       "top": null,
       "visibility": null,
       "width": null
      }
     },
     "686739e44c7541ea9dfc9696195445c0": {
      "model_module": "@jupyter-widgets/controls",
      "model_module_version": "2.0.0",
      "model_name": "HTMLModel",
      "state": {
       "_dom_classes": [],
       "_model_module": "@jupyter-widgets/controls",
       "_model_module_version": "2.0.0",
       "_model_name": "HTMLModel",
       "_view_count": null,
       "_view_module": "@jupyter-widgets/controls",
       "_view_module_version": "2.0.0",
       "_view_name": "HTMLView",
       "description": "",
       "description_allow_html": false,
       "layout": "IPY_MODEL_ffea195942594deca60db97f8bd24f82",
       "placeholder": "​",
       "style": "IPY_MODEL_bfdc16f256b14d6d9c51ef0329561f94",
       "tabbable": null,
       "tooltip": null,
       "value": "special_tokens_map.json: 100%"
      }
     },
     "6ba42d5d83e5407290b00ad9473a4f3c": {
      "model_module": "@jupyter-widgets/base",
      "model_module_version": "2.0.0",
      "model_name": "LayoutModel",
      "state": {
       "_model_module": "@jupyter-widgets/base",
       "_model_module_version": "2.0.0",
       "_model_name": "LayoutModel",
       "_view_count": null,
       "_view_module": "@jupyter-widgets/base",
       "_view_module_version": "2.0.0",
       "_view_name": "LayoutView",
       "align_content": null,
       "align_items": null,
       "align_self": null,
       "border_bottom": null,
       "border_left": null,
       "border_right": null,
       "border_top": null,
       "bottom": null,
       "display": null,
       "flex": null,
       "flex_flow": null,
       "grid_area": null,
       "grid_auto_columns": null,
       "grid_auto_flow": null,
       "grid_auto_rows": null,
       "grid_column": null,
       "grid_gap": null,
       "grid_row": null,
       "grid_template_areas": null,
       "grid_template_columns": null,
       "grid_template_rows": null,
       "height": null,
       "justify_content": null,
       "justify_items": null,
       "left": null,
       "margin": null,
       "max_height": null,
       "max_width": null,
       "min_height": null,
       "min_width": null,
       "object_fit": null,
       "object_position": null,
       "order": null,
       "overflow": null,
       "padding": null,
       "right": null,
       "top": null,
       "visibility": null,
       "width": null
      }
     },
     "7753f94cf2bb44e4b0c28dfa45567532": {
      "model_module": "@jupyter-widgets/controls",
      "model_module_version": "2.0.0",
      "model_name": "HBoxModel",
      "state": {
       "_dom_classes": [],
       "_model_module": "@jupyter-widgets/controls",
       "_model_module_version": "2.0.0",
       "_model_name": "HBoxModel",
       "_view_count": null,
       "_view_module": "@jupyter-widgets/controls",
       "_view_module_version": "2.0.0",
       "_view_name": "HBoxView",
       "box_style": "",
       "children": [
        "IPY_MODEL_686739e44c7541ea9dfc9696195445c0",
        "IPY_MODEL_4c8b1b538f7d487b94e9b6d04c57062c",
        "IPY_MODEL_91120d42f1e04dd596b66533dd4998f5"
       ],
       "layout": "IPY_MODEL_db66441d25334eecacc0b9c82c5a82d4",
       "tabbable": null,
       "tooltip": null
      }
     },
     "7d960b0f67044a8a8a3ed858878176ef": {
      "model_module": "@jupyter-widgets/controls",
      "model_module_version": "2.0.0",
      "model_name": "HTMLModel",
      "state": {
       "_dom_classes": [],
       "_model_module": "@jupyter-widgets/controls",
       "_model_module_version": "2.0.0",
       "_model_name": "HTMLModel",
       "_view_count": null,
       "_view_module": "@jupyter-widgets/controls",
       "_view_module_version": "2.0.0",
       "_view_name": "HTMLView",
       "description": "",
       "description_allow_html": false,
       "layout": "IPY_MODEL_4fd0a4759d7e4749b20d220f9d85e6ca",
       "placeholder": "​",
       "style": "IPY_MODEL_8a3cedc283b340a1bf658f4923b8e454",
       "tabbable": null,
       "tooltip": null,
       "value": " 438M/438M [00:01&lt;00:00, 360MB/s]"
      }
     },
     "7fcdd061388e4f9cad2d2333990b64d1": {
      "model_module": "@jupyter-widgets/controls",
      "model_module_version": "2.0.0",
      "model_name": "HBoxModel",
      "state": {
       "_dom_classes": [],
       "_model_module": "@jupyter-widgets/controls",
       "_model_module_version": "2.0.0",
       "_model_name": "HBoxModel",
       "_view_count": null,
       "_view_module": "@jupyter-widgets/controls",
       "_view_module_version": "2.0.0",
       "_view_name": "HBoxView",
       "box_style": "",
       "children": [
        "IPY_MODEL_e4f5cb5b421c425982f06424ab5ecc78",
        "IPY_MODEL_da7840e3af5a4138b842d2e3e78c3b33",
        "IPY_MODEL_7d960b0f67044a8a8a3ed858878176ef"
       ],
       "layout": "IPY_MODEL_6ba42d5d83e5407290b00ad9473a4f3c",
       "tabbable": null,
       "tooltip": null
      }
     },
     "80ff90ca5ab24787be3a32af8ab69e88": {
      "model_module": "@jupyter-widgets/controls",
      "model_module_version": "2.0.0",
      "model_name": "HTMLModel",
      "state": {
       "_dom_classes": [],
       "_model_module": "@jupyter-widgets/controls",
       "_model_module_version": "2.0.0",
       "_model_name": "HTMLModel",
       "_view_count": null,
       "_view_module": "@jupyter-widgets/controls",
       "_view_module_version": "2.0.0",
       "_view_name": "HTMLView",
       "description": "",
       "description_allow_html": false,
       "layout": "IPY_MODEL_024ac12a2b2041a58c999367ae43d80e",
       "placeholder": "​",
       "style": "IPY_MODEL_a1010fcd0ea04f7fa83bbe63d98ee527",
       "tabbable": null,
       "tooltip": null,
       "value": "vocab.txt: 100%"
      }
     },
     "864717ea09c2431a8c73aa03d14eb6c3": {
      "model_module": "@jupyter-widgets/base",
      "model_module_version": "2.0.0",
      "model_name": "LayoutModel",
      "state": {
       "_model_module": "@jupyter-widgets/base",
       "_model_module_version": "2.0.0",
       "_model_name": "LayoutModel",
       "_view_count": null,
       "_view_module": "@jupyter-widgets/base",
       "_view_module_version": "2.0.0",
       "_view_name": "LayoutView",
       "align_content": null,
       "align_items": null,
       "align_self": null,
       "border_bottom": null,
       "border_left": null,
       "border_right": null,
       "border_top": null,
       "bottom": null,
       "display": null,
       "flex": null,
       "flex_flow": null,
       "grid_area": null,
       "grid_auto_columns": null,
       "grid_auto_flow": null,
       "grid_auto_rows": null,
       "grid_column": null,
       "grid_gap": null,
       "grid_row": null,
       "grid_template_areas": null,
       "grid_template_columns": null,
       "grid_template_rows": null,
       "height": null,
       "justify_content": null,
       "justify_items": null,
       "left": null,
       "margin": null,
       "max_height": null,
       "max_width": null,
       "min_height": null,
       "min_width": null,
       "object_fit": null,
       "object_position": null,
       "order": null,
       "overflow": null,
       "padding": null,
       "right": null,
       "top": null,
       "visibility": null,
       "width": null
      }
     },
     "880b2e29ba274bbaa78f70a1202d65f5": {
      "model_module": "@jupyter-widgets/base",
      "model_module_version": "2.0.0",
      "model_name": "LayoutModel",
      "state": {
       "_model_module": "@jupyter-widgets/base",
       "_model_module_version": "2.0.0",
       "_model_name": "LayoutModel",
       "_view_count": null,
       "_view_module": "@jupyter-widgets/base",
       "_view_module_version": "2.0.0",
       "_view_name": "LayoutView",
       "align_content": null,
       "align_items": null,
       "align_self": null,
       "border_bottom": null,
       "border_left": null,
       "border_right": null,
       "border_top": null,
       "bottom": null,
       "display": null,
       "flex": null,
       "flex_flow": null,
       "grid_area": null,
       "grid_auto_columns": null,
       "grid_auto_flow": null,
       "grid_auto_rows": null,
       "grid_column": null,
       "grid_gap": null,
       "grid_row": null,
       "grid_template_areas": null,
       "grid_template_columns": null,
       "grid_template_rows": null,
       "height": null,
       "justify_content": null,
       "justify_items": null,
       "left": null,
       "margin": null,
       "max_height": null,
       "max_width": null,
       "min_height": null,
       "min_width": null,
       "object_fit": null,
       "object_position": null,
       "order": null,
       "overflow": null,
       "padding": null,
       "right": null,
       "top": null,
       "visibility": null,
       "width": null
      }
     },
     "8a3cedc283b340a1bf658f4923b8e454": {
      "model_module": "@jupyter-widgets/controls",
      "model_module_version": "2.0.0",
      "model_name": "HTMLStyleModel",
      "state": {
       "_model_module": "@jupyter-widgets/controls",
       "_model_module_version": "2.0.0",
       "_model_name": "HTMLStyleModel",
       "_view_count": null,
       "_view_module": "@jupyter-widgets/base",
       "_view_module_version": "2.0.0",
       "_view_name": "StyleView",
       "background": null,
       "description_width": "",
       "font_size": null,
       "text_color": null
      }
     },
     "8db75cd6026c488da6322c09125dffd4": {
      "model_module": "@jupyter-widgets/controls",
      "model_module_version": "2.0.0",
      "model_name": "ProgressStyleModel",
      "state": {
       "_model_module": "@jupyter-widgets/controls",
       "_model_module_version": "2.0.0",
       "_model_name": "ProgressStyleModel",
       "_view_count": null,
       "_view_module": "@jupyter-widgets/base",
       "_view_module_version": "2.0.0",
       "_view_name": "StyleView",
       "bar_color": null,
       "description_width": ""
      }
     },
     "91120d42f1e04dd596b66533dd4998f5": {
      "model_module": "@jupyter-widgets/controls",
      "model_module_version": "2.0.0",
      "model_name": "HTMLModel",
      "state": {
       "_dom_classes": [],
       "_model_module": "@jupyter-widgets/controls",
       "_model_module_version": "2.0.0",
       "_model_name": "HTMLModel",
       "_view_count": null,
       "_view_module": "@jupyter-widgets/controls",
       "_view_module_version": "2.0.0",
       "_view_name": "HTMLView",
       "description": "",
       "description_allow_html": false,
       "layout": "IPY_MODEL_c98627b2b9664624be9ae285e965cbd7",
       "placeholder": "​",
       "style": "IPY_MODEL_0e05e3e5ee9a4b2e971c5a72c971aaaf",
       "tabbable": null,
       "tooltip": null,
       "value": " 125/125 [00:00&lt;00:00, 17.0kB/s]"
      }
     },
     "93989c1287d244b78800e9e4e1f5d08c": {
      "model_module": "@jupyter-widgets/controls",
      "model_module_version": "2.0.0",
      "model_name": "FloatProgressModel",
      "state": {
       "_dom_classes": [],
       "_model_module": "@jupyter-widgets/controls",
       "_model_module_version": "2.0.0",
       "_model_name": "FloatProgressModel",
       "_view_count": null,
       "_view_module": "@jupyter-widgets/controls",
       "_view_module_version": "2.0.0",
       "_view_name": "ProgressView",
       "bar_style": "success",
       "description": "",
       "description_allow_html": false,
       "layout": "IPY_MODEL_d8e97b15e62f4165afe155c3bb1fb775",
       "max": 841.0,
       "min": 0.0,
       "orientation": "horizontal",
       "style": "IPY_MODEL_02f10141b3fe4851a31911000ba36fcd",
       "tabbable": null,
       "tooltip": null,
       "value": 841.0
      }
     },
     "93cf9d4f2eea4ef8b2dd29be849e1e25": {
      "model_module": "@jupyter-widgets/controls",
      "model_module_version": "2.0.0",
      "model_name": "HTMLModel",
      "state": {
       "_dom_classes": [],
       "_model_module": "@jupyter-widgets/controls",
       "_model_module_version": "2.0.0",
       "_model_name": "HTMLModel",
       "_view_count": null,
       "_view_module": "@jupyter-widgets/controls",
       "_view_module_version": "2.0.0",
       "_view_name": "HTMLView",
       "description": "",
       "description_allow_html": false,
       "layout": "IPY_MODEL_de5780e8665449fdaff671089e76ca1c",
       "placeholder": "​",
       "style": "IPY_MODEL_e40a793590f242c5bddf39b9fc1a6852",
       "tabbable": null,
       "tooltip": null,
       "value": " 1.27k/1.27k [00:00&lt;00:00, 136kB/s]"
      }
     },
     "9551cabc99d04dc7ae98b0da0e77d21f": {
      "model_module": "@jupyter-widgets/base",
      "model_module_version": "2.0.0",
      "model_name": "LayoutModel",
      "state": {
       "_model_module": "@jupyter-widgets/base",
       "_model_module_version": "2.0.0",
       "_model_name": "LayoutModel",
       "_view_count": null,
       "_view_module": "@jupyter-widgets/base",
       "_view_module_version": "2.0.0",
       "_view_name": "LayoutView",
       "align_content": null,
       "align_items": null,
       "align_self": null,
       "border_bottom": null,
       "border_left": null,
       "border_right": null,
       "border_top": null,
       "bottom": null,
       "display": null,
       "flex": null,
       "flex_flow": null,
       "grid_area": null,
       "grid_auto_columns": null,
       "grid_auto_flow": null,
       "grid_auto_rows": null,
       "grid_column": null,
       "grid_gap": null,
       "grid_row": null,
       "grid_template_areas": null,
       "grid_template_columns": null,
       "grid_template_rows": null,
       "height": null,
       "justify_content": null,
       "justify_items": null,
       "left": null,
       "margin": null,
       "max_height": null,
       "max_width": null,
       "min_height": null,
       "min_width": null,
       "object_fit": null,
       "object_position": null,
       "order": null,
       "overflow": null,
       "padding": null,
       "right": null,
       "top": null,
       "visibility": null,
       "width": null
      }
     },
     "a0e99e959a704120b1b20e59849983e3": {
      "model_module": "@jupyter-widgets/controls",
      "model_module_version": "2.0.0",
      "model_name": "HBoxModel",
      "state": {
       "_dom_classes": [],
       "_model_module": "@jupyter-widgets/controls",
       "_model_module_version": "2.0.0",
       "_model_name": "HBoxModel",
       "_view_count": null,
       "_view_module": "@jupyter-widgets/controls",
       "_view_module_version": "2.0.0",
       "_view_name": "HBoxView",
       "box_style": "",
       "children": [
        "IPY_MODEL_417ed6a78c22402d979d8d677effb327",
        "IPY_MODEL_93989c1287d244b78800e9e4e1f5d08c",
        "IPY_MODEL_dfef6a2cff84471dbd09f0dee1a30c1b"
       ],
       "layout": "IPY_MODEL_65ec04be138d43e48fb729fd1c3502ed",
       "tabbable": null,
       "tooltip": null
      }
     },
     "a1010fcd0ea04f7fa83bbe63d98ee527": {
      "model_module": "@jupyter-widgets/controls",
      "model_module_version": "2.0.0",
      "model_name": "HTMLStyleModel",
      "state": {
       "_model_module": "@jupyter-widgets/controls",
       "_model_module_version": "2.0.0",
       "_model_name": "HTMLStyleModel",
       "_view_count": null,
       "_view_module": "@jupyter-widgets/base",
       "_view_module_version": "2.0.0",
       "_view_name": "StyleView",
       "background": null,
       "description_width": "",
       "font_size": null,
       "text_color": null
      }
     },
     "b93126bf836d47e190edd187abf87e84": {
      "model_module": "@jupyter-widgets/base",
      "model_module_version": "2.0.0",
      "model_name": "LayoutModel",
      "state": {
       "_model_module": "@jupyter-widgets/base",
       "_model_module_version": "2.0.0",
       "_model_name": "LayoutModel",
       "_view_count": null,
       "_view_module": "@jupyter-widgets/base",
       "_view_module_version": "2.0.0",
       "_view_name": "LayoutView",
       "align_content": null,
       "align_items": null,
       "align_self": null,
       "border_bottom": null,
       "border_left": null,
       "border_right": null,
       "border_top": null,
       "bottom": null,
       "display": null,
       "flex": null,
       "flex_flow": null,
       "grid_area": null,
       "grid_auto_columns": null,
       "grid_auto_flow": null,
       "grid_auto_rows": null,
       "grid_column": null,
       "grid_gap": null,
       "grid_row": null,
       "grid_template_areas": null,
       "grid_template_columns": null,
       "grid_template_rows": null,
       "height": null,
       "justify_content": null,
       "justify_items": null,
       "left": null,
       "margin": null,
       "max_height": null,
       "max_width": null,
       "min_height": null,
       "min_width": null,
       "object_fit": null,
       "object_position": null,
       "order": null,
       "overflow": null,
       "padding": null,
       "right": null,
       "top": null,
       "visibility": null,
       "width": null
      }
     },
     "bb753f03eda24348afa3c757561a700c": {
      "model_module": "@jupyter-widgets/controls",
      "model_module_version": "2.0.0",
      "model_name": "FloatProgressModel",
      "state": {
       "_dom_classes": [],
       "_model_module": "@jupyter-widgets/controls",
       "_model_module_version": "2.0.0",
       "_model_name": "FloatProgressModel",
       "_view_count": null,
       "_view_module": "@jupyter-widgets/controls",
       "_view_module_version": "2.0.0",
       "_view_name": "ProgressView",
       "bar_style": "success",
       "description": "",
       "description_allow_html": false,
       "layout": "IPY_MODEL_864717ea09c2431a8c73aa03d14eb6c3",
       "max": 231508.0,
       "min": 0.0,
       "orientation": "horizontal",
       "style": "IPY_MODEL_8db75cd6026c488da6322c09125dffd4",
       "tabbable": null,
       "tooltip": null,
       "value": 231508.0
      }
     },
     "bfdc16f256b14d6d9c51ef0329561f94": {
      "model_module": "@jupyter-widgets/controls",
      "model_module_version": "2.0.0",
      "model_name": "HTMLStyleModel",
      "state": {
       "_model_module": "@jupyter-widgets/controls",
       "_model_module_version": "2.0.0",
       "_model_name": "HTMLStyleModel",
       "_view_count": null,
       "_view_module": "@jupyter-widgets/base",
       "_view_module_version": "2.0.0",
       "_view_name": "StyleView",
       "background": null,
       "description_width": "",
       "font_size": null,
       "text_color": null
      }
     },
     "c491f946e76a45adbd53052805c37b54": {
      "model_module": "@jupyter-widgets/base",
      "model_module_version": "2.0.0",
      "model_name": "LayoutModel",
      "state": {
       "_model_module": "@jupyter-widgets/base",
       "_model_module_version": "2.0.0",
       "_model_name": "LayoutModel",
       "_view_count": null,
       "_view_module": "@jupyter-widgets/base",
       "_view_module_version": "2.0.0",
       "_view_name": "LayoutView",
       "align_content": null,
       "align_items": null,
       "align_self": null,
       "border_bottom": null,
       "border_left": null,
       "border_right": null,
       "border_top": null,
       "bottom": null,
       "display": null,
       "flex": null,
       "flex_flow": null,
       "grid_area": null,
       "grid_auto_columns": null,
       "grid_auto_flow": null,
       "grid_auto_rows": null,
       "grid_column": null,
       "grid_gap": null,
       "grid_row": null,
       "grid_template_areas": null,
       "grid_template_columns": null,
       "grid_template_rows": null,
       "height": null,
       "justify_content": null,
       "justify_items": null,
       "left": null,
       "margin": null,
       "max_height": null,
       "max_width": null,
       "min_height": null,
       "min_width": null,
       "object_fit": null,
       "object_position": null,
       "order": null,
       "overflow": null,
       "padding": null,
       "right": null,
       "top": null,
       "visibility": null,
       "width": null
      }
     },
     "c98627b2b9664624be9ae285e965cbd7": {
      "model_module": "@jupyter-widgets/base",
      "model_module_version": "2.0.0",
      "model_name": "LayoutModel",
      "state": {
       "_model_module": "@jupyter-widgets/base",
       "_model_module_version": "2.0.0",
       "_model_name": "LayoutModel",
       "_view_count": null,
       "_view_module": "@jupyter-widgets/base",
       "_view_module_version": "2.0.0",
       "_view_name": "LayoutView",
       "align_content": null,
       "align_items": null,
       "align_self": null,
       "border_bottom": null,
       "border_left": null,
       "border_right": null,
       "border_top": null,
       "bottom": null,
       "display": null,
       "flex": null,
       "flex_flow": null,
       "grid_area": null,
       "grid_auto_columns": null,
       "grid_auto_flow": null,
       "grid_auto_rows": null,
       "grid_column": null,
       "grid_gap": null,
       "grid_row": null,
       "grid_template_areas": null,
       "grid_template_columns": null,
       "grid_template_rows": null,
       "height": null,
       "justify_content": null,
       "justify_items": null,
       "left": null,
       "margin": null,
       "max_height": null,
       "max_width": null,
       "min_height": null,
       "min_width": null,
       "object_fit": null,
       "object_position": null,
       "order": null,
       "overflow": null,
       "padding": null,
       "right": null,
       "top": null,
       "visibility": null,
       "width": null
      }
     },
     "d1af7856368149b895baa5f171edd7dd": {
      "model_module": "@jupyter-widgets/controls",
      "model_module_version": "2.0.0",
      "model_name": "HTMLModel",
      "state": {
       "_dom_classes": [],
       "_model_module": "@jupyter-widgets/controls",
       "_model_module_version": "2.0.0",
       "_model_name": "HTMLModel",
       "_view_count": null,
       "_view_module": "@jupyter-widgets/controls",
       "_view_module_version": "2.0.0",
       "_view_name": "HTMLView",
       "description": "",
       "description_allow_html": false,
       "layout": "IPY_MODEL_b93126bf836d47e190edd187abf87e84",
       "placeholder": "​",
       "style": "IPY_MODEL_3a533907ddef41a6a2e75ef31a9d7622",
       "tabbable": null,
       "tooltip": null,
       "value": "tokenizer_config.json: 100%"
      }
     },
     "d8e97b15e62f4165afe155c3bb1fb775": {
      "model_module": "@jupyter-widgets/base",
      "model_module_version": "2.0.0",
      "model_name": "LayoutModel",
      "state": {
       "_model_module": "@jupyter-widgets/base",
       "_model_module_version": "2.0.0",
       "_model_name": "LayoutModel",
       "_view_count": null,
       "_view_module": "@jupyter-widgets/base",
       "_view_module_version": "2.0.0",
       "_view_name": "LayoutView",
       "align_content": null,
       "align_items": null,
       "align_self": null,
       "border_bottom": null,
       "border_left": null,
       "border_right": null,
       "border_top": null,
       "bottom": null,
       "display": null,
       "flex": null,
       "flex_flow": null,
       "grid_area": null,
       "grid_auto_columns": null,
       "grid_auto_flow": null,
       "grid_auto_rows": null,
       "grid_column": null,
       "grid_gap": null,
       "grid_row": null,
       "grid_template_areas": null,
       "grid_template_columns": null,
       "grid_template_rows": null,
       "height": null,
       "justify_content": null,
       "justify_items": null,
       "left": null,
       "margin": null,
       "max_height": null,
       "max_width": null,
       "min_height": null,
       "min_width": null,
       "object_fit": null,
       "object_position": null,
       "order": null,
       "overflow": null,
       "padding": null,
       "right": null,
       "top": null,
       "visibility": null,
       "width": null
      }
     },
     "da7840e3af5a4138b842d2e3e78c3b33": {
      "model_module": "@jupyter-widgets/controls",
      "model_module_version": "2.0.0",
      "model_name": "FloatProgressModel",
      "state": {
       "_dom_classes": [],
       "_model_module": "@jupyter-widgets/controls",
       "_model_module_version": "2.0.0",
       "_model_name": "FloatProgressModel",
       "_view_count": null,
       "_view_module": "@jupyter-widgets/controls",
       "_view_module_version": "2.0.0",
       "_view_name": "ProgressView",
       "bar_style": "success",
       "description": "",
       "description_allow_html": false,
       "layout": "IPY_MODEL_f661ebe5c7814582992846f6a91e20e1",
       "max": 437961724.0,
       "min": 0.0,
       "orientation": "horizontal",
       "style": "IPY_MODEL_0bdbbee673574497806488d70ed54660",
       "tabbable": null,
       "tooltip": null,
       "value": 437961724.0
      }
     },
     "db66441d25334eecacc0b9c82c5a82d4": {
      "model_module": "@jupyter-widgets/base",
      "model_module_version": "2.0.0",
      "model_name": "LayoutModel",
      "state": {
       "_model_module": "@jupyter-widgets/base",
       "_model_module_version": "2.0.0",
       "_model_name": "LayoutModel",
       "_view_count": null,
       "_view_module": "@jupyter-widgets/base",
       "_view_module_version": "2.0.0",
       "_view_name": "LayoutView",
       "align_content": null,
       "align_items": null,
       "align_self": null,
       "border_bottom": null,
       "border_left": null,
       "border_right": null,
       "border_top": null,
       "bottom": null,
       "display": null,
       "flex": null,
       "flex_flow": null,
       "grid_area": null,
       "grid_auto_columns": null,
       "grid_auto_flow": null,
       "grid_auto_rows": null,
       "grid_column": null,
       "grid_gap": null,
       "grid_row": null,
       "grid_template_areas": null,
       "grid_template_columns": null,
       "grid_template_rows": null,
       "height": null,
       "justify_content": null,
       "justify_items": null,
       "left": null,
       "margin": null,
       "max_height": null,
       "max_width": null,
       "min_height": null,
       "min_width": null,
       "object_fit": null,
       "object_position": null,
       "order": null,
       "overflow": null,
       "padding": null,
       "right": null,
       "top": null,
       "visibility": null,
       "width": null
      }
     },
     "de5780e8665449fdaff671089e76ca1c": {
      "model_module": "@jupyter-widgets/base",
      "model_module_version": "2.0.0",
      "model_name": "LayoutModel",
      "state": {
       "_model_module": "@jupyter-widgets/base",
       "_model_module_version": "2.0.0",
       "_model_name": "LayoutModel",
       "_view_count": null,
       "_view_module": "@jupyter-widgets/base",
       "_view_module_version": "2.0.0",
       "_view_name": "LayoutView",
       "align_content": null,
       "align_items": null,
       "align_self": null,
       "border_bottom": null,
       "border_left": null,
       "border_right": null,
       "border_top": null,
       "bottom": null,
       "display": null,
       "flex": null,
       "flex_flow": null,
       "grid_area": null,
       "grid_auto_columns": null,
       "grid_auto_flow": null,
       "grid_auto_rows": null,
       "grid_column": null,
       "grid_gap": null,
       "grid_row": null,
       "grid_template_areas": null,
       "grid_template_columns": null,
       "grid_template_rows": null,
       "height": null,
       "justify_content": null,
       "justify_items": null,
       "left": null,
       "margin": null,
       "max_height": null,
       "max_width": null,
       "min_height": null,
       "min_width": null,
       "object_fit": null,
       "object_position": null,
       "order": null,
       "overflow": null,
       "padding": null,
       "right": null,
       "top": null,
       "visibility": null,
       "width": null
      }
     },
     "dfef6a2cff84471dbd09f0dee1a30c1b": {
      "model_module": "@jupyter-widgets/controls",
      "model_module_version": "2.0.0",
      "model_name": "HTMLModel",
      "state": {
       "_dom_classes": [],
       "_model_module": "@jupyter-widgets/controls",
       "_model_module_version": "2.0.0",
       "_model_name": "HTMLModel",
       "_view_count": null,
       "_view_module": "@jupyter-widgets/controls",
       "_view_module_version": "2.0.0",
       "_view_name": "HTMLView",
       "description": "",
       "description_allow_html": false,
       "layout": "IPY_MODEL_435d993fd4a84bb7ab08fa11a49126f1",
       "placeholder": "​",
       "style": "IPY_MODEL_2efa78872e544564bd78eb1803715204",
       "tabbable": null,
       "tooltip": null,
       "value": " 841/841 [00:00&lt;00:00, 117kB/s]"
      }
     },
     "e40a793590f242c5bddf39b9fc1a6852": {
      "model_module": "@jupyter-widgets/controls",
      "model_module_version": "2.0.0",
      "model_name": "HTMLStyleModel",
      "state": {
       "_model_module": "@jupyter-widgets/controls",
       "_model_module_version": "2.0.0",
       "_model_name": "HTMLStyleModel",
       "_view_count": null,
       "_view_module": "@jupyter-widgets/base",
       "_view_module_version": "2.0.0",
       "_view_name": "StyleView",
       "background": null,
       "description_width": "",
       "font_size": null,
       "text_color": null
      }
     },
     "e4f5cb5b421c425982f06424ab5ecc78": {
      "model_module": "@jupyter-widgets/controls",
      "model_module_version": "2.0.0",
      "model_name": "HTMLModel",
      "state": {
       "_dom_classes": [],
       "_model_module": "@jupyter-widgets/controls",
       "_model_module_version": "2.0.0",
       "_model_name": "HTMLModel",
       "_view_count": null,
       "_view_module": "@jupyter-widgets/controls",
       "_view_module_version": "2.0.0",
       "_view_name": "HTMLView",
       "description": "",
       "description_allow_html": false,
       "layout": "IPY_MODEL_16966e4873d84537bb543f6bc4d03bbb",
       "placeholder": "​",
       "style": "IPY_MODEL_2b180cf32ea9462c81203baa0d40ea0a",
       "tabbable": null,
       "tooltip": null,
       "value": "model.safetensors: 100%"
      }
     },
     "e5d0f0c101864c2ba0744408b8e42078": {
      "model_module": "@jupyter-widgets/controls",
      "model_module_version": "2.0.0",
      "model_name": "HTMLStyleModel",
      "state": {
       "_model_module": "@jupyter-widgets/controls",
       "_model_module_version": "2.0.0",
       "_model_name": "HTMLStyleModel",
       "_view_count": null,
       "_view_module": "@jupyter-widgets/base",
       "_view_module_version": "2.0.0",
       "_view_name": "StyleView",
       "background": null,
       "description_width": "",
       "font_size": null,
       "text_color": null
      }
     },
     "f040aa5d26624f77a51ba36e563e33f9": {
      "model_module": "@jupyter-widgets/controls",
      "model_module_version": "2.0.0",
      "model_name": "HBoxModel",
      "state": {
       "_dom_classes": [],
       "_model_module": "@jupyter-widgets/controls",
       "_model_module_version": "2.0.0",
       "_model_name": "HBoxModel",
       "_view_count": null,
       "_view_module": "@jupyter-widgets/controls",
       "_view_module_version": "2.0.0",
       "_view_name": "HBoxView",
       "box_style": "",
       "children": [
        "IPY_MODEL_80ff90ca5ab24787be3a32af8ab69e88",
        "IPY_MODEL_bb753f03eda24348afa3c757561a700c",
        "IPY_MODEL_f719918f6bb3400287b580e757e5d087"
       ],
       "layout": "IPY_MODEL_32e22ac6d7734566ba12a9a32576e531",
       "tabbable": null,
       "tooltip": null
      }
     },
     "f661ebe5c7814582992846f6a91e20e1": {
      "model_module": "@jupyter-widgets/base",
      "model_module_version": "2.0.0",
      "model_name": "LayoutModel",
      "state": {
       "_model_module": "@jupyter-widgets/base",
       "_model_module_version": "2.0.0",
       "_model_name": "LayoutModel",
       "_view_count": null,
       "_view_module": "@jupyter-widgets/base",
       "_view_module_version": "2.0.0",
       "_view_name": "LayoutView",
       "align_content": null,
       "align_items": null,
       "align_self": null,
       "border_bottom": null,
       "border_left": null,
       "border_right": null,
       "border_top": null,
       "bottom": null,
       "display": null,
       "flex": null,
       "flex_flow": null,
       "grid_area": null,
       "grid_auto_columns": null,
       "grid_auto_flow": null,
       "grid_auto_rows": null,
       "grid_column": null,
       "grid_gap": null,
       "grid_row": null,
       "grid_template_areas": null,
       "grid_template_columns": null,
       "grid_template_rows": null,
       "height": null,
       "justify_content": null,
       "justify_items": null,
       "left": null,
       "margin": null,
       "max_height": null,
       "max_width": null,
       "min_height": null,
       "min_width": null,
       "object_fit": null,
       "object_position": null,
       "order": null,
       "overflow": null,
       "padding": null,
       "right": null,
       "top": null,
       "visibility": null,
       "width": null
      }
     },
     "f719918f6bb3400287b580e757e5d087": {
      "model_module": "@jupyter-widgets/controls",
      "model_module_version": "2.0.0",
      "model_name": "HTMLModel",
      "state": {
       "_dom_classes": [],
       "_model_module": "@jupyter-widgets/controls",
       "_model_module_version": "2.0.0",
       "_model_name": "HTMLModel",
       "_view_count": null,
       "_view_module": "@jupyter-widgets/controls",
       "_view_module_version": "2.0.0",
       "_view_name": "HTMLView",
       "description": "",
       "description_allow_html": false,
       "layout": "IPY_MODEL_880b2e29ba274bbaa78f70a1202d65f5",
       "placeholder": "​",
       "style": "IPY_MODEL_13bbb885e5334cf591072680580a1bf6",
       "tabbable": null,
       "tooltip": null,
       "value": " 232k/232k [00:00&lt;00:00, 661kB/s]"
      }
     },
     "ffea195942594deca60db97f8bd24f82": {
      "model_module": "@jupyter-widgets/base",
      "model_module_version": "2.0.0",
      "model_name": "LayoutModel",
      "state": {
       "_model_module": "@jupyter-widgets/base",
       "_model_module_version": "2.0.0",
       "_model_name": "LayoutModel",
       "_view_count": null,
       "_view_module": "@jupyter-widgets/base",
       "_view_module_version": "2.0.0",
       "_view_name": "LayoutView",
       "align_content": null,
       "align_items": null,
       "align_self": null,
       "border_bottom": null,
       "border_left": null,
       "border_right": null,
       "border_top": null,
       "bottom": null,
       "display": null,
       "flex": null,
       "flex_flow": null,
       "grid_area": null,
       "grid_auto_columns": null,
       "grid_auto_flow": null,
       "grid_auto_rows": null,
       "grid_column": null,
       "grid_gap": null,
       "grid_row": null,
       "grid_template_areas": null,
       "grid_template_columns": null,
       "grid_template_rows": null,
       "height": null,
       "justify_content": null,
       "justify_items": null,
       "left": null,
       "margin": null,
       "max_height": null,
       "max_width": null,
       "min_height": null,
       "min_width": null,
       "object_fit": null,
       "object_position": null,
       "order": null,
       "overflow": null,
       "padding": null,
       "right": null,
       "top": null,
       "visibility": null,
       "width": null
      }
     }
    },
    "version_major": 2,
    "version_minor": 0
   }
  }
 },
 "nbformat": 4,
 "nbformat_minor": 5
}
